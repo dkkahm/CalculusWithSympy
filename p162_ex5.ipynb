{
 "cells": [
  {
   "cell_type": "code",
   "execution_count": 78,
   "metadata": {
    "collapsed": true
   },
   "outputs": [],
   "source": [
    "from sympy import *\n",
    "init_printing()"
   ]
  },
  {
   "cell_type": "code",
   "execution_count": 79,
   "metadata": {
    "collapsed": true
   },
   "outputs": [],
   "source": [
    "V,I,R = symbols('V,I,R', cls=Function)\n",
    "t = symbols('t')\n",
    "\n",
    "conditions = {}\n",
    "conditions[V(t).diff(t)] = 1\n",
    "conditions[I(t).diff(t)] = -1/3"
   ]
  },
  {
   "cell_type": "code",
   "execution_count": 80,
   "metadata": {},
   "outputs": [],
   "source": [
    "eq = Eq(V(t), I(t) * R(t))"
   ]
  },
  {
   "cell_type": "code",
   "execution_count": 81,
   "metadata": {},
   "outputs": [],
   "source": [
    "diffeq = Eq(eq.lhs.diff(t), eq.rhs.diff(t))"
   ]
  },
  {
   "cell_type": "code",
   "execution_count": 82,
   "metadata": {},
   "outputs": [
    {
     "data": {
      "image/png": "[encoded data removed]",
      "text/latex": [
       "$$\\frac{d}{d t} V{\\left (t \\right )} = I{\\left (t \\right )} \\frac{d}{d t} R{\\left (t \\right )} + R{\\left (t \\right )} \\frac{d}{d t} I{\\left (t \\right )}$$"
      ],
      "text/plain": [
       "d               d               d       \n",
       "──(V(t)) = I(t)⋅──(R(t)) + R(t)⋅──(I(t))\n",
       "dt              dt              dt      "
      ]
     },
     "execution_count": 82,
     "metadata": {},
     "output_type": "execute_result"
    }
   ],
   "source": [
    "diffeq"
   ]
  }
 ],
 "metadata": {
  "kernelspec": {
   "display_name": "Python 3",
   "language": "python",
   "name": "python3"
  },
  "language_info": {
   "codemirror_mode": {
    "name": "ipython",
    "version": 3
   },
   "file_extension": ".py",
   "mimetype": "text/x-python",
   "name": "python",
   "nbconvert_exporter": "python",
   "pygments_lexer": "ipython3",
   "version": "3.6.1"
  }
 },
 "nbformat": 4,
 "nbformat_minor": 2
}
